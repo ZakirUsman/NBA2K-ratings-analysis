{
 "cells": [
  {
   "cell_type": "code",
   "execution_count": 53,
   "id": "04aef530-d65d-4f85-a441-104845bfd766",
   "metadata": {},
   "outputs": [],
   "source": [
    "import pandas as pd\n",
    "import time\n",
    "from nba_api.stats.endpoints import leaguedashplayerstats\n",
    "from rapidfuzz import process, fuzz"
   ]
  },
  {
   "cell_type": "code",
   "execution_count": 54,
   "id": "0d20f984-0d5d-4571-832a-e098b3cd9205",
   "metadata": {},
   "outputs": [],
   "source": [
    "# Step 1: Load Google Sheet\n",
    "sheet_url = \"https://docs.google.com/spreadsheets/d/e/2PACX-1vTvnvbpz59twmXa0gIXKpB1W7dHiiJu4Jd-9j5Ftau-Y4_QR_xN0aiMfwI2cuenXC0E5r7xZPlLhGOz/pub?gid=0&single=true&output=csv\"\n",
    "top100_df = pd.read_csv(sheet_url)\n",
    "top100_df = top100_df[['Player', 'Rank', 'OVR']]\n",
    "top100_df['Player_clean'] = top100_df['Player'].str.strip().str.lower()"
   ]
  },
  {
   "cell_type": "code",
   "execution_count": 55,
   "id": "a4c2b39f-0a67-4f5e-a39e-dd9a52b224ee",
   "metadata": {},
   "outputs": [
    {
     "name": "stdout",
     "output_type": "stream",
     "text": [
      "Fetching NBA stats...\n"
     ]
    }
   ],
   "source": [
    "# Step 2: Get NBA stats\n",
    "print(\"Fetching NBA stats...\")\n",
    "nba_stats = leaguedashplayerstats.LeagueDashPlayerStats(\n",
    "    season='2024-25',\n",
    "    season_type_all_star='Regular Season',\n",
    "    measure_type_detailed_defense='Base'\n",
    ")\n",
    "df_nba = nba_stats.get_data_frames()[0]\n",
    "\n",
    "# Calculate per-game stats\n",
    "df_nba['PPG'] = df_nba['PTS'] / df_nba['GP']\n",
    "df_nba['RPG'] = df_nba['REB'] / df_nba['GP']\n",
    "df_nba['APG'] = df_nba['AST'] / df_nba['GP']\n",
    "\n",
    "# Efficiency metrics\n",
    "df_nba['FG%'] = df_nba['FG_PCT']\n",
    "df_nba['3P%'] = df_nba['FG3_PCT']\n",
    "df_nba['FT%'] = df_nba['FT_PCT']\n",
    "df_nba['TS%'] = df_nba['PTS'] / (2 * (df_nba['FGA'] + 0.44 * df_nba['FTA']))\n",
    "\n",
    "# Role metrics\n",
    "df_nba['MPG'] = df_nba['MIN'] / df_nba['GP']\n",
    "df_nba['USG%'] = df_nba['USG_PCT'] if 'USG_PCT' in df_nba.columns else None\n",
    "df_nba['Starter'] = None  # Placeholder: GS not available from this endpoint\n",
    "\n",
    "# Defensive stats\n",
    "df_nba['SPG'] = df_nba['STL'] / df_nba['GP']\n",
    "df_nba['BPG'] = df_nba['BLK'] / df_nba['GP']\n",
    "df_nba['TPG'] = df_nba['TOV'] / df_nba['GP']\n",
    "\n",
    "# Advanced metrics placeholders (if not available)\n",
    "for col in ['OFF_RATING', 'DEF_RATING', 'OBPM', 'DBPM']:\n",
    "    if col not in df_nba.columns:\n",
    "        df_nba[col] = None\n",
    "\n",
    "df_nba['Player_clean_api'] = df_nba['PLAYER_NAME'].str.strip().str.lower()\n"
   ]
  },
  {
   "cell_type": "code",
   "execution_count": 56,
   "id": "2084d1cf-50e8-4547-b1a6-d4120efdd9fc",
   "metadata": {},
   "outputs": [
    {
     "name": "stdout",
     "output_type": "stream",
     "text": [
      "Scraping advanced stats from Basketball Reference...\n"
     ]
    }
   ],
   "source": [
    "# Step 3: Scrape Basketball Reference stats\n",
    "print(\"Scraping advanced stats from Basketball Reference...\")\n",
    "time.sleep(2)\n",
    "url = 'https://www.basketball-reference.com/leagues/NBA_2025_advanced.html'\n",
    "tables = pd.read_html(url)\n",
    "df_adv = tables[0]\n",
    "df_adv = df_adv[~df_adv['Player'].str.contains('Player')]\n",
    "df_adv = df_adv.drop_duplicates(subset='Player')\n",
    "df_adv['Player_clean_br'] = df_adv['Player'].str.strip().str.lower()\n",
    "\n",
    "adv_cols = ['Player_clean_br', 'PER', 'WS', 'BPM', 'OBPM', 'DBPM']\n",
    "df_adv = df_adv[adv_cols]\n",
    "for col in ['PER', 'WS', 'BPM', 'OBPM', 'DBPM']:\n",
    "    df_adv[col] = pd.to_numeric(df_adv[col], errors='coerce')"
   ]
  },
  {
   "cell_type": "code",
   "execution_count": 57,
   "id": "ea143496-ef31-444e-bb0e-9a5dfce9bcf0",
   "metadata": {},
   "outputs": [],
   "source": [
    "# Step 4: Fuzzy match Google Sheet players to NBA API\n",
    "def fuzzy_match(player, choices):\n",
    "    match, score, _ = process.extractOne(player, choices, scorer=fuzz.WRatio)\n",
    "    return match if score > 80 else None  # You can adjust threshold\n",
    "\n",
    "# Match to nba_api\n",
    "top100_df['match_api'] = top100_df['Player_clean'].apply(\n",
    "    lambda x: fuzzy_match(x, df_nba['Player_clean_api'].tolist())\n",
    ")\n",
    "\n",
    "# Match to Basketball Reference\n",
    "top100_df['match_br'] = top100_df['Player_clean'].apply(\n",
    "    lambda x: fuzzy_match(x, df_adv['Player_clean_br'].tolist())\n",
    ")"
   ]
  },
  {
   "cell_type": "code",
   "execution_count": 60,
   "id": "345a0ed6-7f9c-427a-84f6-552f6af1883a",
   "metadata": {},
   "outputs": [
    {
     "name": "stdout",
     "output_type": "stream",
     "text": [
      "✅ Final dataset saved to 'top100_nba_2025_ranked_stats.csv'\n"
     ]
    }
   ],
   "source": [
    "# Step 5: Merge based on fuzzy-matched names\n",
    "df_nba_matched = df_nba.rename(columns={'Player_clean_api': 'match_api'})\n",
    "df_adv_matched = df_adv.rename(columns={'Player_clean_br': 'match_br'})\n",
    "\n",
    "merged = pd.merge(top100_df, df_nba_matched, on='match_api', how='left')\n",
    "merged = pd.merge(merged, df_adv_matched, on='match_br', how='left')\n",
    "\n",
    "# Finalize columns\n",
    "final_df = merged[['Rank', 'Player', 'OVR', 'PER', 'WS', 'BPM', 'PPG', 'RPG', 'APG', 'FG%', '3P%', 'FT%', 'TS%', 'MPG', 'SPG', 'BPG', 'TPG']]\n",
    "final_df = final_df.sort_values(by='Rank').reset_index(drop=True)\n",
    "\n",
    "# Save to CSV\n",
    "final_df.to_csv(\"top100_nba_2025_ranked_stats.csv\", index=False)\n",
    "print(\"✅ Final dataset saved to 'top100_nba_2025_ranked_stats.csv'\")"
   ]
  },
  {
   "cell_type": "code",
   "execution_count": null,
   "id": "ffad2b28-ba6f-45e8-bdeb-ecd595f3acdf",
   "metadata": {},
   "outputs": [],
   "source": []
  }
 ],
 "metadata": {
  "kernelspec": {
   "display_name": "Python [conda env:base] *",
   "language": "python",
   "name": "conda-base-py"
  },
  "language_info": {
   "codemirror_mode": {
    "name": "ipython",
    "version": 3
   },
   "file_extension": ".py",
   "mimetype": "text/x-python",
   "name": "python",
   "nbconvert_exporter": "python",
   "pygments_lexer": "ipython3",
   "version": "3.12.7"
  }
 },
 "nbformat": 4,
 "nbformat_minor": 5
}
